{
 "cells": [
  {
   "cell_type": "code",
   "execution_count": 16,
   "metadata": {},
   "outputs": [],
   "source": [
    "import numpy as np\n",
    "import matplotlib.pyplot as plt\n",
    "import pandas as pd\n",
    "from matplotlib.dates import DateFormatter\n",
    "from matplotlib.ticker import FuncFormatter"
   ]
  },
  {
   "cell_type": "code",
   "execution_count": 69,
   "metadata": {},
   "outputs": [],
   "source": [
    "\n",
    "def mean(lst):\n",
    "    if len(lst)>0:\n",
    "        return sum(lst)/len(lst)\n",
    "    else:\n",
    "        print(\"mean function error, length must not be zero.\")\n",
    "        return None\n",
    "\n",
    "def MovingStd(lst,period):\n",
    "    k = []\n",
    "    k.append(0)\n",
    "    for i in range(1,len(lst)):\n",
    "        if i < period:\n",
    "            k.append(np.std(lst[:i]))\n",
    "        else:\n",
    "            k.append(np.std(lst[i-period+1:i+1]))\n",
    "            \n",
    "    return np.array(k)\n",
    "\n",
    "def vwap(lst1,lst2):\n",
    "\n",
    "    if len(lst1) != len(lst2):\n",
    "        print(\"Vwap failed. length not matched.\")\n",
    "        return None \n",
    "\n",
    "    sum_ = 0\n",
    "    price = 0 \n",
    "    for i in range(len(lst1)):\n",
    "        price += lst1[i]*lst2[i] \n",
    "        sum_ += lst2[i]\n",
    "    return round(price/sum_,2)\n",
    "\n",
    "def vwap_multiperiods(vwaps,vols):\n",
    "\n",
    "    if len(lst1) != len(lst2):\n",
    "        print(\"Vwap failed. length not matched.\")\n",
    "        return None \n",
    "\n",
    "    return vwap(vwaps,vols)\n",
    "\n",
    "\n",
    "def roc(lst1):\n",
    "    lst =[]\n",
    "    lst.append(0)\n",
    "    lst.extend(np.diff(lst1))\n",
    "    \n",
    "    return np.array(lst)\n",
    "\n",
    "\n",
    "def SMA(lst,n):\n",
    "    lst1= []\n",
    "    lst1.append(lst[0])\n",
    "    for i in range(1,len(lst)):\n",
    "        if i < n:\n",
    "            lst1.append(mean(lst[:i+1]))\n",
    "        else:\n",
    "            lst1.append(mean(lst[i-n+1:i+1]))\n",
    "            \n",
    "    return np.array(lst1)\n",
    "\n",
    "def EMA(lst,n):\n",
    "    weight= []\n",
    "    for i in range(n):\n",
    "        weight.append(2**i)\n",
    "\n",
    "    Sum = sum(weight)\n",
    "    normalize = np.array(weight)/Sum\n",
    "\n",
    "    EMA =[]\n",
    "\n",
    "    lst = SMA(lst,n)\n",
    "\n",
    "    EMA.append(lst[0])\n",
    "    for i in range(1,len(lst)):\n",
    "        if i<n-1:\n",
    "            EMA.append(sum(lst[:i+1]*normalize[:i+1])/sum(normalize[:i+1]))\n",
    "        else:\n",
    "            EMA.append(sum(lst[i-n+1:i+1]*normalize))\n",
    "\n",
    "    return EMA\n",
    "\n",
    "def cor(lst1,lst2):\n",
    "\n",
    "    if len(lst1)!=len(lst2):\n",
    "        print(\"Correlation calculation failed, length not matched\")\n",
    "        return None \n",
    "    else:\n",
    "        return(pearsonr(lst1,lst2)[0])\n",
    "\n",
    "def cor_period(lst1,lst2,period):\n",
    "\n",
    "    if len(lst1)!=len(lst2):\n",
    "        print(\"Correlation calculation failed, length not matched\")\n",
    "        return None \n",
    "    else:\n",
    "        return(pearsonr(lst1[:-period],lst2[:-period])[0])\n",
    "\n",
    "\n",
    "def get_sec(time_str):\n",
    "    \"\"\"Get Seconds from time.\"\"\"\n",
    "    h, m, s = time_str.split(':')\n",
    "    return int(h) * 3600 + int(m) * 60 + int(s)\n",
    "\n",
    "\n",
    "#### String, milisecond => timestamp \n",
    "def get_milisec(time_str,mili):\n",
    "    \"\"\"Get Seconds from time.\"\"\"\n",
    "    h, m, s = time_str.split(':')\n",
    "    return 1000*(int(h) * 3600 + int(m) * 60 + int(s))+int(mili)\n",
    "\n",
    "\n",
    "# import datetime\n",
    "# now = datetime.datetime.now()\n",
    "\n",
    "# time = '{}:{}:{}'.format('{:02d}'.format(now.hour), '{:02d}'.format(now.minute),  '{:02d}'.format(now.second))\n",
    "\n",
    "# print(time)\n",
    "from matplotlib.dates import bytespdate2num, num2date\n",
    "from matplotlib.ticker import Formatter\n",
    "class MyFormatter(Formatter):\n",
    "    def __init__(self, dates, fmt='%m/%d/%Y %H:%M'):\n",
    "        self.dates = dates\n",
    "        self.fmt = fmt\n",
    "\n",
    "    def __call__(self, x, pos=0):\n",
    "        'Return the label for time x at position pos'\n",
    "        ind = int(np.round(x))\n",
    "        if ind >= len(self.dates) or ind < 0:\n",
    "            return ''\n",
    "\n",
    "        return num2date(self.dates[ind]).strftime(self.fmt)"
   ]
  },
  {
   "cell_type": "code",
   "execution_count": 135,
   "metadata": {},
   "outputs": [
    {
     "data": {
      "text/html": [
       "<div>\n",
       "<style scoped>\n",
       "    .dataframe tbody tr th:only-of-type {\n",
       "        vertical-align: middle;\n",
       "    }\n",
       "\n",
       "    .dataframe tbody tr th {\n",
       "        vertical-align: top;\n",
       "    }\n",
       "\n",
       "    .dataframe thead th {\n",
       "        text-align: right;\n",
       "    }\n",
       "</style>\n",
       "<table border=\"1\" class=\"dataframe\">\n",
       "  <thead>\n",
       "    <tr style=\"text-align: right;\">\n",
       "      <th></th>\n",
       "      <th>Unnamed: 0</th>\n",
       "      <th>timestamp</th>\n",
       "      <th>price_gap</th>\n",
       "      <th>close_x</th>\n",
       "      <th>close_y</th>\n",
       "    </tr>\n",
       "  </thead>\n",
       "  <tbody>\n",
       "    <tr>\n",
       "      <th>0</th>\n",
       "      <td>0</td>\n",
       "      <td>09/04/2020 04:00</td>\n",
       "      <td>58.51</td>\n",
       "      <td>345.61</td>\n",
       "      <td>287.10</td>\n",
       "    </tr>\n",
       "    <tr>\n",
       "      <th>1</th>\n",
       "      <td>1</td>\n",
       "      <td>09/04/2020 04:01</td>\n",
       "      <td>58.50</td>\n",
       "      <td>345.62</td>\n",
       "      <td>287.12</td>\n",
       "    </tr>\n",
       "    <tr>\n",
       "      <th>2</th>\n",
       "      <td>2</td>\n",
       "      <td>09/04/2020 04:02</td>\n",
       "      <td>58.40</td>\n",
       "      <td>345.61</td>\n",
       "      <td>287.21</td>\n",
       "    </tr>\n",
       "    <tr>\n",
       "      <th>3</th>\n",
       "      <td>3</td>\n",
       "      <td>09/04/2020 04:03</td>\n",
       "      <td>58.70</td>\n",
       "      <td>345.66</td>\n",
       "      <td>286.96</td>\n",
       "    </tr>\n",
       "    <tr>\n",
       "      <th>4</th>\n",
       "      <td>4</td>\n",
       "      <td>09/04/2020 04:04</td>\n",
       "      <td>58.77</td>\n",
       "      <td>345.36</td>\n",
       "      <td>286.59</td>\n",
       "    </tr>\n",
       "  </tbody>\n",
       "</table>\n",
       "</div>"
      ],
      "text/plain": [
       "   Unnamed: 0         timestamp  price_gap  close_x  close_y\n",
       "0           0  09/04/2020 04:00      58.51   345.61   287.10\n",
       "1           1  09/04/2020 04:01      58.50   345.62   287.12\n",
       "2           2  09/04/2020 04:02      58.40   345.61   287.21\n",
       "3           3  09/04/2020 04:03      58.70   345.66   286.96\n",
       "4           4  09/04/2020 04:04      58.77   345.36   286.59"
      ]
     },
     "execution_count": 135,
     "metadata": {},
     "output_type": "execute_result"
    }
   ],
   "source": [
    "GAP =pd.read_csv('data/SPYQQQpair.csv')\n",
    "GAP[:5]\n"
   ]
  },
  {
   "cell_type": "code",
   "execution_count": 89,
   "metadata": {},
   "outputs": [],
   "source": [
    "week = 960*5\n",
    "month_dates = pd.to_datetime(GAP[\"timestamp\"],format='%m/%d/%Y %H:%M')\n",
    "month_GAP = GAP[\"price_gap\"]\n",
    "week_dates = month_dates[-week:]\n",
    "week_GAP = month_GAP[-week:]"
   ]
  },
  {
   "cell_type": "code",
   "execution_count": 147,
   "metadata": {},
   "outputs": [],
   "source": [
    "w_dat = np.array([np.float32(i) for i in range(len(week_dates))])\n",
    "w_linefit = np.polyfit(w_dat,week_GAP,1)\n",
    "w_slope = np.float32(w_linefit[0])\n",
    "w_intcep = np.float32(w_linefit[1])\n",
    "w_regression_line = w_intcep+w_slope*w_dat\n",
    "\n",
    "w_STD = MovingStd(week_GAP,120)\n",
    "w_SMA = SMA(list(week_GAP),120)\n",
    "\n",
    "m_dat = np.array([np.float32(i) for i in range(len(month_dates))])\n",
    "m_linefit = np.polyfit(m_dat,month_GAP,1)\n",
    "m_slope = np.float32(m_linefit[0])\n",
    "m_intcep = np.float32(m_linefit[1])\n",
    "m_regression_line = m_intcep+w_slope*m_dat\n",
    "\n",
    "m_STD = MovingStd(month_GAP,360)\n",
    "m_SMA = SMA(list(month_GAP),360)"
   ]
  },
  {
   "cell_type": "code",
   "execution_count": 148,
   "metadata": {},
   "outputs": [],
   "source": [
    "def equidate_ax(fig, ax, dates, fmt=\"%m-%d\"):    \n",
    "    N = len(dates)\n",
    "    def format_date(index, pos):\n",
    "        index = np.clip(int(index + 0.5), 0, N - 1)\n",
    "        return dates[index].strftime(fmt)\n",
    "    ax.xaxis.set_major_formatter(FuncFormatter(format_date))\n",
    "    ax.set_xlabel(\"dates\")\n",
    "    fig.autofmt_xdate()"
   ]
  },
  {
   "cell_type": "code",
   "execution_count": 176,
   "metadata": {
    "scrolled": true
   },
   "outputs": [
    {
     "data": {
      "image/png": "[encoded data removed]",
      "text/plain": [
       "<Figure size 1800x1440 with 1 Axes>"
      ]
     },
     "metadata": {
      "needs_background": "light"
     },
     "output_type": "display_data"
    }
   ],
   "source": [
    "f = plt.figure(figsize=(25,20))\n",
    "\n",
    "\n",
    "\n",
    "w_spread = f.add_subplot(512)\n",
    "#d=np.arange(len(week_dates))\n",
    "# w_spread.set_title(\"Intraday Spread - Past one Week\",fontsize=8)\n",
    "# w_spread.plot(d,week_GAP,\"r\",label=\"Spread\")\n",
    "# w_spread.plot(d,w_SMA,\"c\",label=\"Spread SMA10\")\n",
    "# w_spread.plot(d,w_regression_line,\"b\",label=\"Regression line\",linewidth=1)\n",
    "#w_spread.fill_between(d, w_regression_line-2*w_STD,w_regression_line+2*w_STD,alpha=0.23,label=\"Price gap deviation zone\")\n",
    "#equidate_ax(f,w_spread,list(week_dates))\n",
    "\n",
    "#w_spread.fill_between(d, d-2*50,d+2*50,alpha=0.9,label=\"Price gap deviation zone\")\n",
    "\n",
    "# m_spread = f.add_subplot(513)\n",
    "# d=np.arange(len(month_dates))\n",
    "# m_spread.set_title(\"Intraday Spread - Past one month\",fontsize=8)\n",
    "# m_spread.plot(d,month_GAP,\"r\",label=\"Spread\")\n",
    "# m_spread.plot(d,m_SMA,\"c\",label=\"Spread SMA10\")\n",
    "# m_spread.plot(d,m_regression_line,\"b\",label=\"Regression line\",linewidth=1)\n",
    "# m_spread.fill_between(d, m_regression_line-2*m_STD,m_regression_line+2*m_STD,alpha=0.23,label=\"Price gap deviation zone\")\n",
    "# equidate_ax(f,m_spread,list(month_dates))\n",
    "\n",
    "a=[1,2,3]\n",
    "b=[4,5,6]\n",
    "\n",
    "m_spread.fill_between(b,np.array(b)-1,np.array(b)+1,alpha=0.23,label=\"Price gap deviation zone\")\n",
    "\n",
    "plt.show()"
   ]
  },
  {
   "cell_type": "code",
   "execution_count": 61,
   "metadata": {},
   "outputs": [
    {
     "data": {
      "text/plain": [
       "array([   0,    1,    2, ..., 4797, 4798, 4799])"
      ]
     },
     "execution_count": 61,
     "metadata": {},
     "output_type": "execute_result"
    }
   ],
   "source": [
    "np.arange(len(week_dates))\n"
   ]
  },
  {
   "cell_type": "code",
   "execution_count": 171,
   "metadata": {},
   "outputs": [],
   "source": [
    "\n",
    "plt.show()"
   ]
  },
  {
   "cell_type": "code",
   "execution_count": null,
   "metadata": {},
   "outputs": [],
   "source": []
  },
  {
   "cell_type": "code",
   "execution_count": 164,
   "metadata": {},
   "outputs": [],
   "source": [
    "d=np.arange(2,5)"
   ]
  },
  {
   "cell_type": "code",
   "execution_count": 165,
   "metadata": {},
   "outputs": [
    {
     "data": {
      "text/plain": [
       "array([2, 3, 4])"
      ]
     },
     "execution_count": 165,
     "metadata": {},
     "output_type": "execute_result"
    }
   ],
   "source": [
    "d"
   ]
  },
  {
   "cell_type": "code",
   "execution_count": 158,
   "metadata": {},
   "outputs": [],
   "source": [
    "d = np.append(d,[5])"
   ]
  },
  {
   "cell_type": "code",
   "execution_count": 159,
   "metadata": {},
   "outputs": [
    {
     "data": {
      "text/plain": [
       "array([0, 1, 2, 3, 4, 5])"
      ]
     },
     "execution_count": 159,
     "metadata": {},
     "output_type": "execute_result"
    }
   ],
   "source": [
    "d"
   ]
  },
  {
   "cell_type": "code",
   "execution_count": null,
   "metadata": {},
   "outputs": [],
   "source": []
  }
 ],
 "metadata": {
  "kernelspec": {
   "display_name": "Python 3",
   "language": "python",
   "name": "python3"
  },
  "language_info": {
   "codemirror_mode": {
    "name": "ipython",
    "version": 3
   },
   "file_extension": ".py",
   "mimetype": "text/x-python",
   "name": "python",
   "nbconvert_exporter": "python",
   "pygments_lexer": "ipython3",
   "version": "3.7.7"
  }
 },
 "nbformat": 4,
 "nbformat_minor": 4
}
